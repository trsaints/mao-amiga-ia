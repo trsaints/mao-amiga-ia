{
 "cells": [
  {
   "cell_type": "code",
   "execution_count": null,
   "id": "efff15bc",
   "metadata": {},
   "outputs": [],
   "source": [
    "# Setup Python path to find modules from parent directory\n",
    "import sys\n",
    "import os\n",
    "\n",
    "# Add the project root directory to Python path\n",
    "project_root = os.path.abspath(os.path.join(os.getcwd(), '..'))\n",
    "\n",
    "if project_root not in sys.path:\n",
    "    sys.path.insert(0, project_root)\n",
    "\n",
    "print(f\"Added to Python path: {project_root}\")\n",
    "print(f\"Current working directory: {os.getcwd()}\")"
   ]
  },
  {
   "cell_type": "code",
   "execution_count": null,
   "id": "31d1a803",
   "metadata": {},
   "outputs": [],
   "source": [
    "import pandas\n",
    "from data.processing.data_parser import to_utf8\n",
    "\n",
    "ONGS_DATASET = \"base_2025_2.csv\"\n",
    "\n",
    "result_path = to_utf8(ONGS_DATASET)\n",
    "\n",
    "if result_path is None:\n",
    "    raise FileNotFoundError(\n",
    "        f\"File {ONGS_DATASET} not found or could not be converted to UTF-8.\")\n",
    "\n",
    "result_df = pandas.read_csv(result_path, sep=\";\", encoding=\"utf-8\")\n",
    "result_df.info()"
   ]
  }
 ],
 "metadata": {
  "kernelspec": {
   "display_name": ".venv (3.12.9)",
   "language": "python",
   "name": "python3"
  },
  "language_info": {
   "codemirror_mode": {
    "name": "ipython",
    "version": 3
   },
   "file_extension": ".py",
   "mimetype": "text/x-python",
   "name": "python",
   "nbconvert_exporter": "python",
   "pygments_lexer": "ipython3",
   "version": "3.12.9"
  }
 },
 "nbformat": 4,
 "nbformat_minor": 5
}
